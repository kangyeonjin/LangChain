{
 "cells": [
  {
   "cell_type": "markdown",
   "metadata": {},
   "source": [
    "### Langchain 이란\n",
    "* 대규모의 언어모델로 구동되는 어플리케이션을 개발하기위한 프레임워크\n"
   ]
  },
  {
   "cell_type": "code",
   "execution_count": 1,
   "metadata": {},
   "outputs": [
    {
     "data": {
      "text/plain": [
       "True"
      ]
     },
     "execution_count": 1,
     "metadata": {},
     "output_type": "execute_result"
    }
   ],
   "source": [
    "from dotenv import load_dotenv\n",
    "\n",
    "load_dotenv(dotenv_path=\"../.env\")"
   ]
  },
  {
   "cell_type": "markdown",
   "metadata": {},
   "source": [
    "### chatopenai\n",
    "* openai사에서 제공해주는 llm api를 사용하게 해주는 객체\n",
    "\n",
    "** model_name *\n",
    "* 사용할 LLM모델의 이름\n",
    "\n",
    "** max_tokens **\n",
    "* 모델이 생상할 토큰의 최대갯수\n",
    "\n",
    "** temperature **\n",
    "* 모델의 창의성을 조절하는 매개변수\n",
    "* 0.0 ~2.0사이의 값을 가짐\n",
    "* 0.0에 가까울수록 예측이 정확해지고, 2.0에 가까울수록 창의적으로 변한다\n",
    "\n",
    "\n",
    "\n"
   ]
  },
  {
   "cell_type": "code",
   "execution_count": 2,
   "metadata": {},
   "outputs": [
    {
     "name": "stdout",
     "output_type": "stream",
     "text": [
      "응답 : content='랭체인(LLM Chain)은 대규모 언어 모델(LLM)을 활용하여 다양한 작업을 수행할 수 있도록 설계된 프레임워크입니다. 이 프레임워크는 언어 모델을 기반으로 한 애플리케이션을 쉽게 구축하고 배포할 수 있도록 도와줍니다. 랭체인은 다음과 같은 주요 기능을 제공합니다:\\n\\n1. **모듈화**: 랭체인은 다양한 구성 요소(모' additional_kwargs={'refusal': None} response_metadata={'token_usage': {'completion_tokens': 100, 'prompt_tokens': 15, 'total_tokens': 115, 'completion_tokens_details': {'audio_tokens': None, 'reasoning_tokens': 0}, 'prompt_tokens_details': {'audio_tokens': None, 'cached_tokens': 0}}, 'model_name': 'gpt-4o-mini-2024-07-18', 'system_fingerprint': 'fp_f59a81427f', 'finish_reason': 'length', 'logprobs': None} id='run-f94bb321-9a3f-405a-89cb-f0e69aa9ece2-0' usage_metadata={'input_tokens': 15, 'output_tokens': 100, 'total_tokens': 115, 'input_token_details': {'cache_read': 0}, 'output_token_details': {'reasoning': 0}}\n"
     ]
    }
   ],
   "source": [
    "from langchain_openai import ChatOpenAI\n",
    "\n",
    "model = ChatOpenAI(\n",
    "    model_name = \"gpt-4o-mini\",\n",
    "    temperature=0.1,\n",
    "    max_tokens=100\n",
    ")\n",
    "\n",
    "#질문 생성\n",
    "question = \"랭체인에 대해 설명해주세요\"\n",
    "\n",
    "print(f\"응답 : {model.invoke(question)}\")\n",
    "\n",
    "# completion_token =답변에 쓰인 토큰수\n",
    "# prompt_tokens = 프롬프트 입력에 쓰인 토큰수"
   ]
  },
  {
   "cell_type": "markdown",
   "metadata": {},
   "source": [
    "### contextwindow\n",
    "* 입력과 출력을 처리할수있는 최대 토큰수\n",
    "* llm 모델이 한번에 처리할수있는 최대 토큰수를 의미\n",
    "\n",
    "### mad output tokens\n",
    "* llm 모델이 생성할수있는 최대 토큰수\n",
    "* 최대로 답변할수있는 길이가 제한됨\n",
    "\n",
    "=> context window는 입력과 출력을 모두 포함하는 토큰수이다 <br>\n",
    "=> 하지만 입력할수있는 토큰의 갯수가 훨씬더 많다\n",
    "\n",
    "**가격**\n",
    "* 답변이 더 비싸다\n",
    "* 입력이 많아도 출력이 적으면 비용이 적게든다"
   ]
  },
  {
   "cell_type": "code",
   "execution_count": null,
   "metadata": {},
   "outputs": [],
   "source": []
  }
 ],
 "metadata": {
  "kernelspec": {
   "display_name": "langchain_env",
   "language": "python",
   "name": "python3"
  },
  "language_info": {
   "codemirror_mode": {
    "name": "ipython",
    "version": 3
   },
   "file_extension": ".py",
   "mimetype": "text/x-python",
   "name": "python",
   "nbconvert_exporter": "python",
   "pygments_lexer": "ipython3",
   "version": "3.11.10"
  }
 },
 "nbformat": 4,
 "nbformat_minor": 2
}
