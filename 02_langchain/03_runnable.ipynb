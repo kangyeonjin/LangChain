{
 "cells": [
  {
   "cell_type": "markdown",
   "metadata": {},
   "source": [
    "### Runable\n",
    "* Runnable은 런타임에 실행될수있는 모든 객체를 의미한다\n",
    "\n",
    "### Runnable 종류\n",
    "* invoke :입력에 대해 체인을 호출하는 메서드\n",
    "* stream :응답의 청크를 스트리밍한다\n",
    "* batch :입력목록에 대한 일괄처리를 수행한다.\n",
    "\n",
    "이외에 비동기 메소드도 존재한다.\n",
    "* astream : 비동기적으로 응답의 청크를 비동기 스트리밍한다.\n",
    "* ainvoke : 비동기적으로 입력에 대해 체인을 호출한다.\n",
    "* abatch : 비동기적으로 입력 목록에 대해 일괄 처리를 수행한다.\n",
    "* astream_log : 최종 응답 및 발생하는 중간단계를 스트리밍한다."
   ]
  },
  {
   "cell_type": "code",
   "execution_count": 1,
   "metadata": {},
   "outputs": [
    {
     "data": {
      "text/plain": [
       "True"
      ]
     },
     "execution_count": 1,
     "metadata": {},
     "output_type": "execute_result"
    }
   ],
   "source": [
    "from dotenv import load_dotenv\n",
    "\n",
    "load_dotenv(dotenv_path=\"../.env\")"
   ]
  },
  {
   "cell_type": "code",
   "execution_count": 2,
   "metadata": {},
   "outputs": [],
   "source": [
    "from langchain_openai import ChatOpenAI\n",
    "\n",
    "llm = ChatOpenAI(\n",
    "    model_name = \"gpt-4o-mini\",\n",
    "    temperature=0.1\n",
    ")"
   ]
  },
  {
   "cell_type": "code",
   "execution_count": 24,
   "metadata": {},
   "outputs": [],
   "source": [
    "from langchain_core.prompts import PromptTemplate\n",
    "from langchain_core.output_parsers import StrOutputParser\n",
    "\n",
    "prompt = PromptTemplate.from_template(\"{lecture}에 대해 3문장으로 설명해줘\")\n",
    "\n",
    "chain = prompt | llm | StrOutputParser()"
   ]
  },
  {
   "cell_type": "code",
   "execution_count": 25,
   "metadata": {},
   "outputs": [
    {
     "name": "stdout",
     "output_type": "stream",
     "text": [
      "리액트(React)는 사용자 인터페이스를 구축하기 위한 자바스크립트 라이브러리로, 컴포넌트 기반 아키텍처를 통해 재사용 가능한 UI 요소를 쉽게 만들 수 있게 해줍니다. 리액트는 가상 DOM(Virtual DOM)을 사용하여 실제 DOM 변경을 최소화하고, 애플리케이션의 성능을 최적화합니다. 또한, 리액트는 단방향 데이터 흐름을 채택하여 데이터의 예측 가능성과 디버깅을 용이하게 합니다.\n"
     ]
    }
   ],
   "source": [
    "print(chain.invoke({\"lecture\" : \"리엑트\"}));"
   ]
  },
  {
   "cell_type": "markdown",
   "metadata": {},
   "source": [
    "### strean [실시간 출력]\n",
    "* 데이터 스트림을 생성하고 , 스트림을 반복하여 각 데이터의 즉시 출력한다\n",
    "* end=\" 인자를 사용해 줄바꿈을 하지 않을수있다\n",
    "* flush=True 인자를 사용해 즉시 출력가능"
   ]
  },
  {
   "cell_type": "code",
   "execution_count": 26,
   "metadata": {},
   "outputs": [
    {
     "name": "stdout",
     "output_type": "stream",
     "text": [
      "Python은 높은 수준의 프로그래밍 언어로, 읽기 쉽고 간결한 문법을 제공하여 초보자와 전문가 모두에게 인기가 많습니다. 다양한 라이브러리와 프레임워크를 통해 웹 개발, 데이터 분석, 인공지능 등 여러 분야에서 활용됩니다. 또한, 플랫폼에 독립적이며 커뮤니티의 활발한 지원을 받아 지속적으로 발전하고 있습니다."
     ]
    }
   ],
   "source": [
    "for token in chain.stream({\"lecture\" : \"Python\"}):\n",
    "\n",
    "    print(token, end=\"\", flush=True)"
   ]
  },
  {
   "cell_type": "markdown",
   "metadata": {},
   "source": [
    "### batch [단위 실행]\n",
    "* 여러개의 딕셔너리를 포함하는 리스트를 인자로 받아, 각각의 입력에 대한 체인을 실행한다\n",
    "* max_concurrency :최대 병렬처리수를 지정할수있다."
   ]
  },
  {
   "cell_type": "code",
   "execution_count": 27,
   "metadata": {},
   "outputs": [
    {
     "name": "stdout",
     "output_type": "stream",
     "text": [
      "['파이썬은 높은 수준의 프로그래밍 언어로, 읽기 쉽고 간결한 문법을 제공하여 초보자와 전문가 모두에게 인기가 많습니다. 다양한 라이브러리와 프레임워크를 통해 웹 개발, 데이터 분석, 인공지능 등 여러 분야에서 활용됩니다. 또한, 플랫폼에 독립적이며 커뮤니티 지원이 활발하여 지속적으로 발전하고 있습니다.', '자바(Java)는 객체 지향 프로그래밍 언어로, 1995년 썬 마이크로시스템즈(Sun Microsystems)에서 처음 개발되었습니다. 플랫폼 독립성을 제공하여 다양한 운영 체제에서 실행할 수 있으며, \"한 번 작성하면 어디서나 실행된다\"는 철학을 가지고 있습니다. 자바는 웹 애플리케이션, 모바일 앱, 엔터프라이즈 소프트웨어 등 다양한 분야에서 널리 사용되고 있습니다.', '자바스크립트는 웹 개발에서 널리 사용되는 프로그래밍 언어로, 웹 페이지에 동적인 기능을 추가하는 데 사용됩니다. 클라이언트 측에서 실행되며, HTML 및 CSS와 함께 웹의 기본적인 구성 요소 중 하나로 작동합니다. 또한, Node.js와 같은 런타임 환경을 통해 서버 측 프로그래밍에도 활용될 수 있습니다.', 'SQL(Structured Query Language)은 관계형 데이터베이스 관리 시스템(RDBMS)에서 데이터를 관리하고 조작하기 위한 표준 프로그래밍 언어입니다. SQL을 사용하면 데이터베이스에서 데이터를 검색, 삽입, 업데이트 및 삭제할 수 있으며, 데이터베이스 구조를 정의하고 제어할 수도 있습니다. SQL은 다양한 데이터베이스 시스템에서 사용되며, 데이터 쿼리 및 분석을 위한 강력한 도구로 널리 활용됩니다.']\n"
     ]
    }
   ],
   "source": [
    "result = chain.batch(\n",
    "    [\n",
    "        {\"lecture\": \"파이썬\"},\n",
    "        {\"lecture\": \"자바\"},\n",
    "        {\"lecture\": \"자바스크립트\"},\n",
    "        {\"lecture\": \"SQL\"}\n",
    "    ],\n",
    "    config={\"max_concurrency\": 3}\n",
    ")\n",
    "\n",
    "print(result)"
   ]
  },
  {
   "cell_type": "markdown",
   "metadata": {},
   "source": [
    "---\n",
    "parallel(병렬성)\n",
    "* LCEL 를 사용하여 체인을 구성할때, 여러 체인을 동시해 실행할수있다.\n",
    "\n"
   ]
  },
  {
   "cell_type": "code",
   "execution_count": 28,
   "metadata": {},
   "outputs": [],
   "source": [
    "chain1 =(\n",
    "    PromptTemplate.from_template(\"{country}의 수도는 어디야?\")\n",
    "    | llm\n",
    "    | StrOutputParser()\n",
    ")\n",
    "\n",
    "chain2 =(\n",
    "    PromptTemplate.from_template(\"{country}의 면적은 얼마야\")\n",
    "    | llm\n",
    "    | StrOutputParser()\n",
    ")"
   ]
  },
  {
   "cell_type": "code",
   "execution_count": 29,
   "metadata": {},
   "outputs": [],
   "source": [
    "from langchain_core.runnables import RunnableParallel\n",
    "\n",
    "# 병렬 실행 체인\n",
    "combined = RunnableParallel(capital=chain1, area=chain2)"
   ]
  },
  {
   "cell_type": "code",
   "execution_count": 30,
   "metadata": {},
   "outputs": [
    {
     "name": "stdout",
     "output_type": "stream",
     "text": [
      "대한민국의 수도는 서울입니다.\n"
     ]
    }
   ],
   "source": [
    "print(chain1.invoke({\"country\" : \"대한민국\"}))"
   ]
  },
  {
   "cell_type": "code",
   "execution_count": 31,
   "metadata": {},
   "outputs": [
    {
     "name": "stdout",
     "output_type": "stream",
     "text": [
      "미국의 총 면적은 약 9,833,520 제곱킬로미터입니다. 이 면적에는 50개 주와 워싱턴 D.C.가 포함됩니다. 미국은 세계에서 세 번째로 큰 나라로, 러시아와 캐나다에 이어 면적이 넓습니다.\n"
     ]
    }
   ],
   "source": [
    "print(chain2.invoke({\"country\" : \"미국\"}))"
   ]
  },
  {
   "cell_type": "code",
   "execution_count": 32,
   "metadata": {},
   "outputs": [
    {
     "name": "stdout",
     "output_type": "stream",
     "text": [
      "{'capital': '대한민국의 수도는 서울입니다.', 'area': '대한민국의 면적은 약 100,210 평방 킬로미터입니다.'}\n"
     ]
    }
   ],
   "source": [
    "result = combined.invoke({\"country\" :\"대한민국\"})\n",
    "\n",
    "print(result)"
   ]
  },
  {
   "cell_type": "code",
   "execution_count": 33,
   "metadata": {},
   "outputs": [
    {
     "name": "stdout",
     "output_type": "stream",
     "text": [
      "대한민국의 수도는 서울입니다.\n",
      "대한민국의 면적은 약 100,210 평방 킬로미터입니다.\n"
     ]
    }
   ],
   "source": [
    "print(result[\"capital\"])\n",
    "print(result[\"area\"])"
   ]
  },
  {
   "cell_type": "markdown",
   "metadata": {},
   "source": [
    "### RunnablePassThrough\n",
    "* 입력을 그대로 전달하는 역할\n",
    "* 단독으로 호출될경우 단순히 입력을 받아 그대로 전달"
   ]
  },
  {
   "cell_type": "code",
   "execution_count": 9,
   "metadata": {},
   "outputs": [],
   "source": [
    "llm = ChatOpenAI(\n",
    "    model_name=\"gpt-4o-mini\",\n",
    "    temperature=0.0\n",
    ")\n",
    "\n",
    "prompt = PromptTemplate.from_template(\"{num}의 약수를 알려줘\")\n",
    "\n",
    "chain = prompt | llm | StrOutputParser()"
   ]
  },
  {
   "cell_type": "code",
   "execution_count": 10,
   "metadata": {},
   "outputs": [
    {
     "data": {
      "text/plain": [
       "'10의 약수는 1, 2, 5, 10입니다.'"
      ]
     },
     "execution_count": 10,
     "metadata": {},
     "output_type": "execute_result"
    }
   ],
   "source": [
    "# invoke()를 통해 실행할때는 입력이 딕셔너리여야하지만\n",
    "# 1개의 변수만 템플릿에 작성이 되있다면, 값만 전달해도 된다\n",
    "chain.invoke(10)"
   ]
  },
  {
   "cell_type": "code",
   "execution_count": 11,
   "metadata": {},
   "outputs": [
    {
     "data": {
      "text/plain": [
       "'10의 약수는 1, 2, 5, 10입니다.'"
      ]
     },
     "execution_count": 11,
     "metadata": {},
     "output_type": "execute_result"
    }
   ],
   "source": [
    "from langchain_core.runnables import RunnablePassthrough\n",
    "\n",
    "passthrough_chain = {\"num\": RunnablePassthrough()} | prompt | llm | StrOutputParser()\n",
    "\n",
    "passthrough_chain.invoke({\"num\":10})"
   ]
  },
  {
   "cell_type": "markdown",
   "metadata": {},
   "source": [
    "**RunnablePassthrough.assign()**\n",
    "* 입력값으로 들어온 값의 key/value쌍을 새롭게 할당된 key/value쌍을 합쳐준다"
   ]
  },
  {
   "cell_type": "code",
   "execution_count": 12,
   "metadata": {},
   "outputs": [
    {
     "data": {
      "text/plain": [
       "{'num': 1, 'new_date': 3}"
      ]
     },
     "execution_count": 12,
     "metadata": {},
     "output_type": "execute_result"
    }
   ],
   "source": [
    "RunnablePassthrough.assign(new_date=lambda x: x[\"num\"] * 3).invoke({\"num\":1})"
   ]
  },
  {
   "cell_type": "markdown",
   "metadata": {},
   "source": [
    "### RunnableLambda\n",
    "* 입력값에 대한 추가 처리를 수행할수있따\n",
    "* 람다함수를 사용해 입력값에 대한 추가 처리를 진행\n",
    "\n",
    "* 날씨 시간"
   ]
  },
  {
   "cell_type": "code",
   "execution_count": 20,
   "metadata": {},
   "outputs": [],
   "source": [
    "from datetime import datetime\n",
    "\n",
    "def get_today(num):\n",
    "    print(\"num : \", num)\n",
    "    return datetime.now().strftime(\"%b-%d\")\n",
    "\n",
    "# get_today()"
   ]
  },
  {
   "cell_type": "code",
   "execution_count": 21,
   "metadata": {},
   "outputs": [],
   "source": [
    "from langchain_core.runnables import RunnableLambda, RunnablePassthrough\n",
    "from operator import itemgetter\n",
    "\n",
    "#prompt\n",
    "prompt = PromptTemplate.from_template(\n",
    "    \"{today}가 생일인 유명인 {n}명을 알려줘\"\n",
    ")\n",
    "\n",
    "#llm\n",
    "llm = ChatOpenAI(temperature=0, model_name=\"gpt-4o\")\n",
    "\n",
    "#chain생성\n",
    "chain =(\n",
    "    {\"today\" : RunnableLambda(get_today),\"n\": itemgetter(\"n\")}\n",
    "    | prompt\n",
    "    | llm\n",
    "    | StrOutputParser()\n",
    ")\n",
    "\n"
   ]
  },
  {
   "cell_type": "code",
   "execution_count": 22,
   "metadata": {},
   "outputs": [
    {
     "name": "stdout",
     "output_type": "stream",
     "text": [
      "num :  {'n': 3}\n",
      "10월 28일이 생일인 유명인 중 몇 명을 소개하자면 다음과 같습니다.\n",
      "\n",
      "1. 빌 게이츠 (Bill Gates) - 마이크로소프트의 공동 창립자이자 세계적인 기업가입니다.\n",
      "2. 줄리아 로버츠 (Julia Roberts) - 아카데미상을 수상한 미국의 유명한 배우입니다.\n",
      "3. 호아킨 피닉스 (Joaquin Phoenix) - 여러 영화에서 뛰어난 연기를 선보인 미국의 배우입니다.\n",
      "\n",
      "이 외에도 많은 유명인들이 있지만, 이 세 명이 대표적입니다.\n"
     ]
    }
   ],
   "source": [
    "print(chain.invoke({\"n\": 3}))"
   ]
  }
 ],
 "metadata": {
  "kernelspec": {
   "display_name": "langchain_env",
   "language": "python",
   "name": "python3"
  },
  "language_info": {
   "codemirror_mode": {
    "name": "ipython",
    "version": 3
   },
   "file_extension": ".py",
   "mimetype": "text/x-python",
   "name": "python",
   "nbconvert_exporter": "python",
   "pygments_lexer": "ipython3",
   "version": "3.11.10"
  }
 },
 "nbformat": 4,
 "nbformat_minor": 2
}
