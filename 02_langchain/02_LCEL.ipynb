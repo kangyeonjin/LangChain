{
 "cells": [
  {
   "cell_type": "markdown",
   "metadata": {},
   "source": [
    "# LCEL (LangChain Expression Language)\n",
    "* 사용자의 입력 -> 프롬프트 템플릿 -> LLM모델 전달\n",
    "* 각 단계를 차례롷 엮어서 하나의 파이프라인으로 만들어주는것\n",
    "\n",
    "chain = prompt | model | output_parser\n"
   ]
  },
  {
   "cell_type": "markdown",
   "metadata": {
    "vscode": {
     "languageId": "plaintext"
    }
   },
   "source": [
    "### 프롬프트 템플릿\n",
    "\n",
    "* 사용자의 입력 변수를 받아서 완전한 프롬프트 문자열을 만드는데 사용하는 템플릿\n"
   ]
  },
  {
   "cell_type": "code",
   "execution_count": 8,
   "metadata": {},
   "outputs": [],
   "source": [
    "\n",
    "from langchain_core.prompts import PromptTemplate\n",
    "\n",
    "template = \"{lecture}에 대해 설명해주세요\"\n",
    "\n",
    "prompt_template = PromptTemplate(template=template, input_variables=[\"lecture\"])"
   ]
  },
  {
   "cell_type": "code",
   "execution_count": 10,
   "metadata": {},
   "outputs": [
    {
     "name": "stdout",
     "output_type": "stream",
     "text": [
      "스프링에 대해 설명해주세요\n"
     ]
    }
   ],
   "source": [
    "lecture = input(\"궁금한 과목을 입력하세요 : \")\n",
    "\n",
    "prompt = prompt_template.format(lecture=lecture)\n",
    "\n",
    "print(prompt)\n"
   ]
  },
  {
   "cell_type": "code",
   "execution_count": 17,
   "metadata": {},
   "outputs": [],
   "source": [
    "from langchain_openai import ChatOpenAI\n",
    "\n",
    "model = ChatOpenAI(\n",
    "    model=\"gpt-3.5-turbo\",\n",
    "    temperature=0.1\n",
    ")"
   ]
  },
  {
   "cell_type": "code",
   "execution_count": 20,
   "metadata": {},
   "outputs": [],
   "source": [
    "chain = prompt_template | model"
   ]
  },
  {
   "cell_type": "code",
   "execution_count": 21,
   "metadata": {},
   "outputs": [],
   "source": [
    "#prompt template의 변수에 작성할때는 dictionary형태로 key-value싸응로 입력을 줄수있따\n",
    "input = {\"lecture\":\"랭체인\"}"
   ]
  },
  {
   "cell_type": "code",
   "execution_count": 22,
   "metadata": {},
   "outputs": [
    {
     "data": {
      "text/plain": [
       "AIMessage(content='랭체인은 블록체인 기술을 기반으로 한 분산형 랭킹 시스템입니다. 랭크체인은 사용자들이 서로에 대한 평가를 투표하고 이를 블록체인에 기록하여 신뢰할 수 있는 랭킹 시스템을 구축합니다. 이를 통해 사용자들은 더 투명하고 공정한 방식으로 다른 사용자들을 평가하고 랭킹을 매길 수 있습니다. 또한, 랭크체인은 블록체인의 불변성과 보안성을 활용하여 조작이 어려운 신뢰할 수 있는 랭킹 시스템을 제공합니다. 이를 통해 다양한 분야에서 랭킹 시스템을 활용할 수 있으며, 더 투명하고 공정한 시스템을 구축할 수 있습니다.', additional_kwargs={'refusal': None}, response_metadata={'token_usage': {'completion_tokens': 277, 'prompt_tokens': 18, 'total_tokens': 295, 'completion_tokens_details': {'audio_tokens': None, 'reasoning_tokens': 0}, 'prompt_tokens_details': {'audio_tokens': None, 'cached_tokens': 0}}, 'model_name': 'gpt-3.5-turbo-0125', 'system_fingerprint': None, 'finish_reason': 'stop', 'logprobs': None}, id='run-6ecae208-4122-47a2-b232-712084190a3b-0', usage_metadata={'input_tokens': 18, 'output_tokens': 277, 'total_tokens': 295, 'input_token_details': {'cache_read': 0}, 'output_token_details': {'reasoning': 0}})"
      ]
     },
     "execution_count": 22,
     "metadata": {},
     "output_type": "execute_result"
    }
   ],
   "source": [
    "chain.invoke(input)"
   ]
  },
  {
   "cell_type": "markdown",
   "metadata": {},
   "source": [
    "### 출력형식 지정(output parser)\n",
    "* LLM모델이 응답해주는내용에 대한 형식을 지정해주는것"
   ]
  },
  {
   "cell_type": "markdown",
   "metadata": {},
   "source": []
  },
  {
   "cell_type": "code",
   "execution_count": 23,
   "metadata": {},
   "outputs": [],
   "source": [
    "from langchain_core.output_parsers import StrOutputParser\n",
    "\n",
    "output_parser = StrOutputParser()"
   ]
  },
  {
   "cell_type": "code",
   "execution_count": 24,
   "metadata": {},
   "outputs": [],
   "source": [
    "chain = prompt_template | model | output_parser"
   ]
  },
  {
   "cell_type": "code",
   "execution_count": 25,
   "metadata": {},
   "outputs": [
    {
     "data": {
      "text/plain": [
       "'랭체인은 블록체인 기술을 활용하여 게임 산업에 적용된 분산형 게임 개발 플랫폼입니다. 랭체인은 게임 개발자들이 게임을 개발하고 운영하는 데 필요한 다양한 기능을 제공하며, 게이머들에게는 게임을 즐기는 동안 보상을 받을 수 있는 기회를 제공합니다.\\n\\n랭체인은 블록체인 기술을 통해 게임 내 자산의 소유권을 보장하고 거래를 투명하게 처리할 수 있습니다. 또한 블록체인을 통해 게임 내 아이템의 유일성을 보장하고 소유자에게 전송할 수 있습니다.\\n\\n랭체인은 게임 산업의 혁신을 이끌어내는 기술로, 게임 개발자와 게이머 간의 상호작용을 증진시키고 게임 경제를 더욱 발전시킬 수 있는 플랫폼입니다.'"
      ]
     },
     "execution_count": 25,
     "metadata": {},
     "output_type": "execute_result"
    }
   ],
   "source": [
    "chain.invoke(input)"
   ]
  },
  {
   "cell_type": "code",
   "execution_count": 26,
   "metadata": {},
   "outputs": [],
   "source": [
    "### 영어회화를 알려주는 선생님 쳇봅\n",
    "### 어떤상활을 주면 영어회화+한글해석\n",
    "\n",
    "template = \"\"\"\n",
    "당신은 영어를 가르치는 10년차 선생님입니다\n",
    "주어진 상황에 맞는 영어회화를 작성해주세요\n",
    "양식은 [FORMAT]을 참고하여 작성해주세요\n",
    "\n",
    "#상황 :\n",
    "{question}\n",
    "\n",
    "#FORMAT:\n",
    "-영어 회화\n",
    "-한글 해석\n",
    "\n",
    "\"\"\"\n",
    "# 프롬프트 템플릿 작성\n",
    "prompt = PromptTemplate.from_template(template)\n",
    "\n",
    "#모델 객체 작성\n",
    "model = ChatOpenAI(model_name=\"gpt-4o\")\n",
    "\n",
    "#문자열출력 파서 객체 생성\n",
    "output_parser = StrOutputParser()\n",
    "\n",
    "\n"
   ]
  },
  {
   "cell_type": "code",
   "execution_count": 27,
   "metadata": {},
   "outputs": [],
   "source": [
    "#체인구성\n",
    "chain = prompt | model | output_parser"
   ]
  },
  {
   "cell_type": "code",
   "execution_count": 28,
   "metadata": {},
   "outputs": [
    {
     "name": "stdout",
     "output_type": "stream",
     "text": [
      "-영어 회화  \n",
      "Customer: Hello! Could I see the menu, please?  \n",
      "Waiter: Of course! Here you go.  \n",
      "Customer: Thank you. I would like to order the grilled chicken, please.  \n",
      "Waiter: Certainly. Would you like any sides with that?  \n",
      "Customer: Yes, I'd like mashed potatoes and steamed vegetables.  \n",
      "Waiter: Great choice. Anything to drink?  \n",
      "Customer: Just water, please.  \n",
      "Waiter: Alright. Your order will be ready shortly.  \n",
      "\n",
      "-한글 해석  \n",
      "손님: 안녕하세요! 메뉴를 볼 수 있을까요?  \n",
      "웨이터: 물론입니다! 여기 있습니다.  \n",
      "손님: 감사합니다. 그릴드 치킨을 주문하고 싶습니다.  \n",
      "웨이터: 알겠습니다. 사이드 메뉴는 어떤 걸로 하시겠어요?  \n",
      "손님: 네, 으깬 감자와 찐 야채로 주세요.  \n",
      "웨이터: 좋은 선택이십니다. 음료는 무엇으로 하시겠어요?  \n",
      "손님: 그냥 물 주세요.  \n",
      "웨이터: 알겠습니다. 곧 준비해드리겠습니다.\n"
     ]
    }
   ],
   "source": [
    "#Chain 실행\n",
    "print(chain.invoke({\"question\" :\"저는 식당에 가서 음식을 주문하고 싶어요\"}))"
   ]
  },
  {
   "cell_type": "markdown",
   "metadata": {},
   "source": [
    "여러가지 재료를 변수로 입력받고 재료로 요리할수있는 요리의 요리명\n",
    "재료, 조리법을 포멧으로 받는 템플릿을 작성하고\n",
    "문자열 출력파서로 응답을 받을수있게 체인을 구성하세요"
   ]
  },
  {
   "cell_type": "code",
   "execution_count": 31,
   "metadata": {},
   "outputs": [],
   "source": [
    "template = \"\"\"\n",
    "당신은 요리학원 10년차 선생님입니다\n",
    "주어진 재료에 맞춰서 만들 음식을 알려주세요\n",
    "양식은 [FORMAT]을 참고하여 작성해주세요\n",
    "\n",
    "#상황 :\n",
    "{question}\n",
    "\n",
    "#FORMAT:\n",
    "-닭\n",
    "-양파\n",
    "\n",
    "\"\"\"\n",
    "# 프롬프트 템플릿 작성\n",
    "prompt = PromptTemplate.from_template(template)\n",
    "\n",
    "#모델 객체 작성\n",
    "model = ChatOpenAI(model_name=\"gpt-4o\")\n",
    "\n",
    "#문자열출력 파서 객체 생성\n",
    "output_parser = StrOutputParser()"
   ]
  },
  {
   "cell_type": "code",
   "execution_count": 32,
   "metadata": {},
   "outputs": [],
   "source": [
    "#체인구성\n",
    "chain = prompt | model | output_parser"
   ]
  },
  {
   "cell_type": "code",
   "execution_count": 33,
   "metadata": {},
   "outputs": [
    {
     "name": "stdout",
     "output_type": "stream",
     "text": [
      "찜닭을 만들기 위한 기본 재료로 닭과 양파를 사용하실 수 있습니다. 아래에 찜닭을 만들기 위한 기본적인 방법을 설명드리겠습니다. 이 방법을 참고하여 맛있는 찜닭을 만들어 보세요!\n",
      "\n",
      "### 찜닭 레시피\n",
      "\n",
      "#### 재료\n",
      "- 닭: 1마리 (약 1kg)\n",
      "- 양파: 1개\n",
      "\n",
      "#### 추가 추천 재료\n",
      "- 당근: 1개\n",
      "- 감자: 2개\n",
      "- 대파: 1대\n",
      "- 마늘: 5쪽\n",
      "- 간장: 1/2컵\n",
      "- 설탕: 2큰술\n",
      "- 물엿: 2큰술\n",
      "- 후추: 약간\n",
      "- 참기름: 1큰술\n",
      "- 물: 2컵\n",
      "- 당면: 100g (선택사항, 불려 놓기)\n",
      "\n",
      "#### 조리 방법\n",
      "1. **재료 준비**: 닭은 깨끗이 씻어서 먹기 좋은 크기로 잘라 줍니다. 양파, 당근, 감자는 큼직하게 썰어 준비하고, 대파는 어슷썰기, 마늘은 다져 줍니다.\n",
      "\n",
      "2. **양념장 만들기**: 큰 볼에 간장, 설탕, 물엿, 후추, 참기름, 다진 마늘을 넣고 잘 섞어 양념장을 만듭니다.\n",
      "\n",
      "3. **끓이기**: 냄비에 닭과 양념장, 물 2컵을 넣고 중불에서 끓입니다.\n",
      "\n",
      "4. **야채 넣기**: 끓기 시작하면 썰어둔 양파, 당근, 감자, 대파를 넣고 재료가 익을 때까지 끓입니다.\n",
      "\n",
      "5. **당면 추가 (선택사항)**: 당면을 넣고 5분 정도 더 끓여줍니다.\n",
      "\n",
      "6. **마무리**: 모든 재료가 잘 익고 양념이 배면 불을 끄고 접시에 담아 냅니다.\n",
      "\n",
      "이렇게 하시면 맛있는 찜닭을 즐기실 수 있습니다. 취향에 따라 매운 고춧가루를 추가하거나, 버섯 등을 넣어 보셔도 좋습니다. 즐거운 요리 시간 되세요!\n"
     ]
    }
   ],
   "source": [
    "#Chain 실행\n",
    "print(chain.invoke({\"question\" :\"찜닭\"}))"
   ]
  },
  {
   "cell_type": "code",
   "execution_count": null,
   "metadata": {},
   "outputs": [],
   "source": []
  }
 ],
 "metadata": {
  "kernelspec": {
   "display_name": "langchain_env",
   "language": "python",
   "name": "python3"
  },
  "language_info": {
   "codemirror_mode": {
    "name": "ipython",
    "version": 3
   },
   "file_extension": ".py",
   "mimetype": "text/x-python",
   "name": "python",
   "nbconvert_exporter": "python",
   "pygments_lexer": "ipython3",
   "version": "3.11.10"
  }
 },
 "nbformat": 4,
 "nbformat_minor": 2
}
