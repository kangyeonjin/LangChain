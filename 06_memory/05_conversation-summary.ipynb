{
 "cells": [
  {
   "cell_type": "markdown",
   "metadata": {},
   "source": [
    "### conversationsSummaryMemory\n",
    "* 시간경과에 따른 대화의 요약을 생성해 기록한다\n",
    "* 대화가 진행되는 동안 대화를 요약하고 현재 요약을 메모리에 저장하는 방식\n",
    "* 과거 메시지 기록을 프롬프트에 그대로 보관했을 때 토큰을 많이 차지할수있는 긴대화에 유용"
   ]
  },
  {
   "cell_type": "code",
   "execution_count": 2,
   "metadata": {},
   "outputs": [
    {
     "data": {
      "text/plain": [
       "True"
      ]
     },
     "execution_count": 2,
     "metadata": {},
     "output_type": "execute_result"
    }
   ],
   "source": [
    "from dotenv import load_dotenv\n",
    "\n",
    "load_dotenv()"
   ]
  },
  {
   "cell_type": "code",
   "execution_count": 3,
   "metadata": {},
   "outputs": [
    {
     "name": "stderr",
     "output_type": "stream",
     "text": [
      "C:\\Users\\20109\\AppData\\Local\\Temp\\ipykernel_12488\\893690941.py:9: LangChainDeprecationWarning: Please see the migration guide at: https://python.langchain.com/docs/versions/migrating_memory/\n",
      "  memory = ConversationSummaryMemory(\n"
     ]
    }
   ],
   "source": [
    "from langchain.memory import ConversationSummaryMemory\n",
    "from langchain_openai import ChatOpenAI\n",
    "\n",
    "llm = ChatOpenAI(\n",
    "    temperature=0,\n",
    "    model=\"gpt-4o\"\n",
    ")\n",
    "\n",
    "memory = ConversationSummaryMemory(\n",
    "    llm=llm,\n",
    "    return_messages=True\n",
    ")\n"
   ]
  },
  {
   "cell_type": "code",
   "execution_count": 6,
   "metadata": {},
   "outputs": [],
   "source": [
    "memory.save_context(\n",
    "    inputs={\"human\": \"최신 스마트폰의 가격대가 어떻게 되나요?\"},\n",
    "    outputs={\n",
    "        \"ai\": \"최신 플래그십 스마트폰의 기본 가격은 100만원대부터 시작합니다. 저장 용량과 모델에 따라 150만원까지 다양합니다. 중급형 모델은 50-80만원대에서 구매 가능합니다.\"\n",
    "    },\n",
    ")\n",
    "memory.save_context(\n",
    "    inputs={\"human\": \"배터리 성능은 어떤가요?\"},\n",
    "    outputs={\n",
    "        \"ai\": \"최신 모델들은 대부분 4500mAh 이상의 배터리를 탑재하고 있으며, 고속 충전을 지원합니다. 일반적인 사용시 하루 종일 사용 가능하며, 충전 시간은 30분에 50%, 1시간에 완충이 가능합니다.\"\n",
    "    },\n",
    ")\n",
    "memory.save_context(\n",
    "    inputs={\"human\": \"카메라 성능은 어떤가요?\"},\n",
    "    outputs={\n",
    "        \"ai\": \"메인 카메라는 50MP 이상을 지원하며, 울트라와이드와 망원 렌즈도 탑재되어 있습니다. AI 이미지 처리 기술로 야간 촬영도 우수하며, 8K 동영상 촬영도 가능합니다.\"\n",
    "    },\n",
    ")\n",
    "memory.save_context(\n",
    "    inputs={\"human\": \"AS 정책은 어떻게 되나요?\"},\n",
    "    outputs={\n",
    "        \"ai\": \"기본적으로 1년 무상 보증이 제공되며, 추가 보험 가입시 2년까지 연장 가능합니다. 전국 서비스센터에서 수리가 가능하고, 간단한 수리는 당일 처리됩니다.\"\n",
    "    },\n",
    ")\n",
    "memory.save_context(\n",
    "    inputs={\"human\": \"5G 지원과 저장 용량은 어떻게 되나요?\"},\n",
    "    outputs={\n",
    "        \"ai\": \"모든 최신 모델이 5G를 지원하며, 저장 용량은 128GB부터 시작해서 1TB까지 선택 가능합니다. 클라우드 저장소 서비스도 기본 제공됩니다.\"\n",
    "    },\n",
    ")\n",
    "memory.save_context(\n",
    "    inputs={\"human\": \"구매시 사은품이나 할인 혜택이 있나요?\"},\n",
    "    outputs={\n",
    "        \"ai\": \"이번 달 구매시 무선이어폰이 증정되며, 카드사 제휴 할인시 최대 10% 할인이 가능합니다. 또한 기존 폰 보상 판매시 추가 할인도 받으실 수 있습니다.\"\n",
    "    },\n",
    ")\n",
    "memory.save_context(\n",
    "    inputs={\"human\": \"방수 등급과 내구성은 어떤가요?\"},\n",
    "    outputs={\n",
    "        \"ai\": \"IP68 등급으로 1.5미터 깊이의 물에서 30분간 견딜 수 있으며, 고릴라 글래스 적용으로 스크래치에 강합니다. 또한 프레임은 항공기급 알루미늄을 사용해 내구성이 뛰어납니다.\"\n",
    "    },\n",
    ")"
   ]
  },
  {
   "cell_type": "markdown",
   "metadata": {},
   "source": [
    "이전의 모든 대화를 압축해 요약한 내용을 확인가능"
   ]
  },
  {
   "cell_type": "code",
   "execution_count": 7,
   "metadata": {},
   "outputs": [
    {
     "name": "stdout",
     "output_type": "stream",
     "text": [
      "[SystemMessage(content='The human asks about the price range of the latest smartphones. The AI responds that flagship smartphones start at around 1 million won, with prices varying up to 1.5 million won depending on storage and model. Mid-range models are available in the 500,000 to 800,000 won range. The human then inquires about battery performance, and the AI explains that most latest models are equipped with batteries of 4500mAh or more, supporting fast charging. They can typically last all day with regular use, and can charge to 50% in 30 minutes and fully charge in an hour. The human asks about camera performance, and the AI states that the main camera supports over 50MP, with ultra-wide and telephoto lenses included. It also mentions that AI image processing technology enhances night photography and that 8K video recording is possible. The human then asks about the after-sales policy, and the AI explains that a 1-year free warranty is provided, which can be extended to 2 years with additional insurance. Repairs can be done at nationwide service centers, with simple repairs completed on the same day. The human inquires about 5G support and storage capacity, and the AI confirms that all latest models support 5G, with storage options ranging from 128GB to 1TB, and basic cloud storage services are also provided. The human asks about promotional offers or discounts, and the AI mentions that wireless earbuds are given as a gift with purchases this month, up to a 10% discount is available through credit card partnerships, and additional discounts can be obtained through trade-in of old phones. The human asks about water resistance and durability, and the AI states that the phones have an IP68 rating, can withstand 1.5 meters of water for 30 minutes, feature Gorilla Glass for scratch resistance, and use aircraft-grade aluminum for enhanced durability.', additional_kwargs={}, response_metadata={})]\n"
     ]
    }
   ],
   "source": [
    "print(memory.load_memory_variables({})[\"history\"])"
   ]
  },
  {
   "cell_type": "markdown",
   "metadata": {},
   "source": [
    "### ConversationSummaryBufferMemory\n",
    "* 최근 대화내용의 버퍼를 메모리에 유지하고, 이전 대화내용을 완전히 지우지 않고 요약해 저장한다\n",
    "* 대화내용을 지울시기를 결정할떄는 토큰의 길이를 사용한다.\n"
   ]
  },
  {
   "cell_type": "code",
   "execution_count": 20,
   "metadata": {},
   "outputs": [],
   "source": [
    "from langchain_openai import ChatOpenAI\n",
    "from langchain.memory import ConversationSummaryBufferMemory\n",
    "\n",
    "llm=ChatOpenAI(\n",
    "    temperature=0,\n",
    "    model=\"gpt=4o\"\n",
    ")\n",
    "\n",
    "memory =  ConversationSummaryBufferMemory(\n",
    "    llm=llm,\n",
    "    max_token_limit=200, #요약의 기준\n",
    "    return_messages=True\n",
    ")"
   ]
  },
  {
   "cell_type": "code",
   "execution_count": 26,
   "metadata": {},
   "outputs": [],
   "source": [
    "from langchain.memory import ConversationBufferMemory\n",
    "\n",
    "memory = ConversationBufferMemory()\n",
    "memory.save_context(\n",
    "    inputs={\n",
    "        \"human\": \"자동차 렌트 비용은 얼마인가요?\"\n",
    "    },\n",
    "    outputs={\n",
    "        \"ai\": \"\"\"저희 렌트카의 기본 대여비용은 하루 5만원입니다.\n",
    "기본 보험료와 GPS 내비게이션이 포함되어 있습니다.\n",
    "차종에 따라 추가 비용이 발생할 수 있으며,\n",
    "장기 렌트 시 할인 혜택이 제공됩니다.\"\"\"\n",
    "    }\n",
    ")"
   ]
  },
  {
   "cell_type": "code",
   "execution_count": 31,
   "metadata": {},
   "outputs": [
    {
     "name": "stdout",
     "output_type": "stream",
     "text": [
      "Human: 자동차 렌트 비용은 얼마인가요?\n",
      "AI: 저희 렌트카의 기본 대여비용은 하루 5만원입니다.\n",
      "기본 보험료와 GPS 내비게이션이 포함되어 있습니다.\n",
      "차종에 따라 추가 비용이 발생할 수 있으며,\n",
      "장기 렌트 시 할인 혜택이 제공됩니다.\n"
     ]
    }
   ],
   "source": [
    "print(memory.load_memory_variables({})[\"history\"])"
   ]
  },
  {
   "cell_type": "markdown",
   "metadata": {},
   "source": [
    "* 대화내용이 200토큰을 넘길경우"
   ]
  },
  {
   "cell_type": "code",
   "execution_count": 33,
   "metadata": {},
   "outputs": [],
   "source": [
    "memory.save_context(\n",
    "    inputs={\"human\": \"차량 종류는 어떤 것이 있나요?\"},\n",
    "    outputs={\n",
    "        \"ai\": \"저희 렌터카는 경차, 중형차, SUV, 승합차 등 다양한 차종을 보유하고 있습니다. 경차는 일 3만원부터, 중형차는 5만원부터, SUV는 7만원부터, 승합차는 10만원부터 시작합니다.\"\n",
    "    },\n",
    ")\n",
    "memory.save_context(\n",
    "    inputs={\"human\": \"보험 종류와 비용은 어떻게 되나요?\"},\n",
    "    outputs={\n",
    "        \"ai\": \"기본 보험은 대인/대물 보험이 포함되어 있으며, 추가로 자차 보험은 일 1만원, 완전 종합보험은 일 2만원입니다. 장기 렌트 시 보험료 할인 혜택도 제공됩니다.\"\n",
    "    },\n",
    ")\n",
    "memory.save_context(\n",
    "    inputs={\n",
    "        \"human\": \"카시트 대여도 가능한가요?\"\n",
    "    },\n",
    "    outputs={\n",
    "        \"ai\": \"네, 카시트 대여가 가능합니다. 영유아용/어린이용 카시트를 구비하고 있으며, 일 1만원의 비용으로 대여 가능합니다. 사전 예약을 추천드립니다.\"\n",
    "    },\n",
    ")\n",
    "memory.save_context(\n",
    "    inputs={\"human\": \"연료는 어떻게 반납해야 하나요?\"},\n",
    "    outputs={\n",
    "        \"ai\": \"차량 인수 시와 동일한 연료량으로 반납하셔야 합니다. 연료가 부족할 경우 실제 주유비에 추가 서비스 요금이 부과됩니다. 인근 주유소 위치는 저희가 안내해 드립니다.\"\n",
    "    },\n",
    ")"
   ]
  },
  {
   "cell_type": "code",
   "execution_count": 38,
   "metadata": {},
   "outputs": [
    {
     "name": "stdout",
     "output_type": "stream",
     "text": [
      "\n",
      "\n",
      "\u001b[1m> Entering new ConversationChain chain...\u001b[0m\n",
      "Prompt after formatting:\n",
      "\u001b[32;1m\u001b[1;3mThe following is a friendly conversation between a human and an AI. The AI is talkative and provides lots of specific details from its context. If the AI does not know the answer to a question, it truthfully says it does not know.\n",
      "\n",
      "Current conversation:\n",
      "[]\n",
      "Human: 차량 종류는 어떤 것이 있나요?\n",
      "AI:\u001b[0m\n",
      "\n",
      "\u001b[1m> Finished chain.\u001b[0m\n",
      "차량 종류는 매우 다양하며, 각기 다른 용도와 특징을 가지고 있습니다. 몇 가지 주요 차량 종류를 소개하자면 다음과 같습니다:\n",
      "\n",
      "1. **세단 (Sedan)**: 일반적으로 4도어를 가진 승용차로, 가족용 차량으로 많이 사용됩니다. 편안한 승차감과 적당한 트렁크 공간을 제공합니다.\n",
      "\n",
      "2. **SUV (Sport Utility Vehicle)**: 스포츠 유틸리티 차량으로, 높은 지상고와 넓은 내부 공간을 특징으로 합니다. 오프로드 주행이 가능하며, 가족 여행이나 캠핑에 적합합니다.\n",
      "\n",
      "3. **해치백 (Hatchback)**: 트렁크와 승객 공간이 하나로 연결된 차량으로, 뒷좌석을 접으면 더 많은 짐을 실을 수 있습니다. 도시 주행에 적합한 컴팩트한 크기를 가지고 있습니다.\n",
      "\n",
      "4. **쿠페 (Coupe)**: 일반적으로 2도어를 가진 차량으로, 스포티한 디자인과 성능을 강조합니다. 젊은 층이나 운전의 재미를 추구하는 사람들에게 인기가 있습니다.\n",
      "\n",
      "5. **컨버터블 (Convertible)**: 지붕을 열고 닫을 수 있는 차량으로, 오픈카라고도 불립니다. 주로 여름철에 인기가 많습니다.\n",
      "\n",
      "6. **픽업 트럭 (Pickup Truck)**: 화물 적재 공간이 있는 차량으로, 건설업이나 농업 등에서 많이 사용됩니다. 강력한 견인력과 내구성을 자랑합니다.\n",
      "\n",
      "7. **미니밴 (Minivan)**: 많은 승객을 태울 수 있는 차량으로, 주로 대가족이나 단체 이동에 적합합니다. 슬라이딩 도어와 넓은 내부 공간이 특징입니다.\n",
      "\n",
      "8. **전기차 (Electric Vehicle)**: 전기 모터로 구동되는 차량으로, 친환경적이며 연료비 절감 효과가 있습니다. 충전 인프라가 점점 확장되고 있습니다.\n",
      "\n",
      "이 외에도 하이브리드 차량, 스포츠카, 럭셔리카 등 다양한 종류가 있으며, 각자의 필요와 취향에 맞게 선택할 수 있습니다.\n"
     ]
    }
   ],
   "source": [
    "from langchain_openai import ChatOpenAI\n",
    "from langchain.memory import ConversationSummaryBufferMemory\n",
    "from langchain.chains import ConversationChain\n",
    "\n",
    "# LLM 설정\n",
    "llm = ChatOpenAI(\n",
    "    temperature=0,\n",
    "    model=\"gpt-4o\"  # 오타 수정: \"=\"를 \"_\"로 변경\n",
    ")\n",
    "\n",
    "# 메모리 설정\n",
    "memory = ConversationSummaryBufferMemory(\n",
    "    llm=llm,\n",
    "    max_token_limit=200,  # 요약의 기준\n",
    "    return_messages=True\n",
    ")\n",
    "\n",
    "# 대화 체인 생성\n",
    "conversation_chain = ConversationChain(\n",
    "    llm=llm,\n",
    "    memory=memory,\n",
    "    verbose=True\n",
    ")\n",
    "\n",
    "# 사용자 질문\n",
    "user_input = \"차량 종류는 어떤 것이 있나요?\"\n",
    "\n",
    "# 대화 진행\n",
    "response = conversation_chain.predict(\n",
    "    input=user_input\n",
    "    )\n",
    "\n",
    "# 응답 출력\n",
    "print(response)\n",
    "\n",
    "# 메모리에 대화 내용 저장\n",
    "memory.save_context(\n",
    "    inputs={\"human\": user_input},\n",
    "    outputs={\"ai\": response}\n",
    ")"
   ]
  },
  {
   "cell_type": "code",
   "execution_count": null,
   "metadata": {},
   "outputs": [],
   "source": []
  }
 ],
 "metadata": {
  "kernelspec": {
   "display_name": "langchain_env",
   "language": "python",
   "name": "python3"
  },
  "language_info": {
   "codemirror_mode": {
    "name": "ipython",
    "version": 3
   },
   "file_extension": ".py",
   "mimetype": "text/x-python",
   "name": "python",
   "nbconvert_exporter": "python",
   "pygments_lexer": "ipython3",
   "version": "3.11.10"
  }
 },
 "nbformat": 4,
 "nbformat_minor": 2
}
