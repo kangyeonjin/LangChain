{
 "cells": [
  {
   "cell_type": "code",
   "execution_count": 1,
   "metadata": {},
   "outputs": [
    {
     "data": {
      "text/plain": [
       "True"
      ]
     },
     "execution_count": 1,
     "metadata": {},
     "output_type": "execute_result"
    }
   ],
   "source": [
    "from dotenv import load_dotenv\n",
    "\n",
    "load_dotenv()\n"
   ]
  },
  {
   "cell_type": "code",
   "execution_count": 1,
   "metadata": {},
   "outputs": [
    {
     "name": "stdout",
     "output_type": "stream",
     "text": [
      "1976-04-01 00:00:00\n",
      "1976-04-01\n"
     ]
    }
   ],
   "source": [
    "from langchain.output_parsers import DatetimeOutputParser\n",
    "from langchain.prompts import PromptTemplate\n",
    "from langchain_openai import ChatOpenAI\n",
    "\n",
    "output_parser = DatetimeOutputParser()\n",
    "\n",
    "# 연도 월 일\n",
    "output_parser.format = \"%Y-%m-%d\"\n",
    "\n",
    "template = \"\"\"\n",
    "answer the user questions:\n",
    "\n",
    "#format instructions:\n",
    "{format_instructions}\n",
    "\n",
    "#question\n",
    "{question}\n",
    "\n",
    "#answer:\n",
    "\"\"\"\n",
    "\n",
    "prompt =  PromptTemplate.from_template(\n",
    "    template=template,\n",
    "    partial_variables={\n",
    "        \"format_instructions\": output_parser.get_format_instructions()\n",
    "    }\n",
    ")\n",
    "\n",
    "chain = prompt | ChatOpenAI(temperature=0, model=\"gpt-4o\") | output_parser\n",
    "\n",
    "response = chain.invoke({\"question\" : \"apple이 창업한 연도\"})\n",
    "\n",
    "print(response)\n",
    "\n",
    "print(response.strftime(\"%Y-%m-%d\"))"
   ]
  }
 ],
 "metadata": {
  "kernelspec": {
   "display_name": "langchain_env",
   "language": "python",
   "name": "python3"
  },
  "language_info": {
   "codemirror_mode": {
    "name": "ipython",
    "version": 3
   },
   "file_extension": ".py",
   "mimetype": "text/x-python",
   "name": "python",
   "nbconvert_exporter": "python",
   "pygments_lexer": "ipython3",
   "version": "3.11.10"
  }
 },
 "nbformat": 4,
 "nbformat_minor": 2
}
