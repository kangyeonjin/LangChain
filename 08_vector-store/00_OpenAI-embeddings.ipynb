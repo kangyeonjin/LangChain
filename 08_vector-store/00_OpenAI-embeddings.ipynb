{
 "cells": [
  {
   "cell_type": "markdown",
   "metadata": {},
   "source": [
    "### openaiembeddings\n",
    "* 문서의 내용을 수치적인 백터로 변환하는과정\n",
    "* 문서의 의미를 수치화, 모델들이 문맥적 정보를 이해할수있게한다\n",
    "* 벡터화된 문서들은 문서분류, 감정분석, 문서간 유사도 계산에 사용될수있다"
   ]
  },
  {
   "cell_type": "markdown",
   "metadata": {},
   "source": [
    "지원되는 모델 목록\n",
    "\n",
    "| MODEL                  | PAGES PER DOLLAR | PERFORMANCE ON MTEB EVAL | MAX INPUT |\n",
    "|------------------------|------------------|---------------------------|-----------|\n",
    "| text-embedding-3-small | 62,500           | 62.3%                     | 8191      |\n",
    "| text-embedding-3-large | 9,615            | 64.6%                     | 8191      |\n",
    "| text-embedding-ada-002 | 12,500           | 61.0%                     | 8191      |"
   ]
  },
  {
   "cell_type": "code",
   "execution_count": 1,
   "metadata": {},
   "outputs": [
    {
     "data": {
      "text/plain": [
       "True"
      ]
     },
     "execution_count": 1,
     "metadata": {},
     "output_type": "execute_result"
    }
   ],
   "source": [
    "from dotenv import load_dotenv\n",
    "load_dotenv()"
   ]
  },
  {
   "cell_type": "code",
   "execution_count": 2,
   "metadata": {},
   "outputs": [],
   "source": [
    "from langchain_openai import OpenAIEmbeddings\n",
    "\n",
    "embeddings = OpenAIEmbeddings(model=\"text-embedding-3-small\")"
   ]
  },
  {
   "cell_type": "code",
   "execution_count": 3,
   "metadata": {},
   "outputs": [],
   "source": [
    "text = \"임베딩 테스트 하기위한 샘플 문장\""
   ]
  },
  {
   "cell_type": "markdown",
   "metadata": {},
   "source": [
    "**쿼리 임베딩**\n",
    "embeddings.embed_query(text)\n",
    "* 주어진 텍스트를 임베딩벡터로 변환하는 함수\n",
    "* 텍스트를 벡터공간에 매핑해, 의미적으로 유사한 텍스트를찾거나 유사도를 계산할때 사용"
   ]
  },
  {
   "cell_type": "code",
   "execution_count": 4,
   "metadata": {},
   "outputs": [],
   "source": [
    "query_result = embeddings.embed_query(text)\n"
   ]
  },
  {
   "cell_type": "code",
   "execution_count": 7,
   "metadata": {},
   "outputs": [
    {
     "data": {
      "text/plain": [
       "[0.001385761657729745,\n",
       " 0.03298284858465195,\n",
       " 0.03938661888241768,\n",
       " -0.02090979553759098,\n",
       " 0.01594056375324726]"
      ]
     },
     "execution_count": 7,
     "metadata": {},
     "output_type": "execute_result"
    }
   ],
   "source": [
    "query_result[:5]"
   ]
  },
  {
   "cell_type": "markdown",
   "metadata": {},
   "source": [
    "###Document 임베딩**\n",
    "embeddings.embed_documents()\n",
    "* 함수를 사용하여 텍스트 문서를 임베딩\n",
    "* [text]를 인자로 전달해 단일 문서를 리스트 형태로 임베딩 함수에 전달\n"
   ]
  },
  {
   "cell_type": "code",
   "execution_count": 8,
   "metadata": {},
   "outputs": [],
   "source": [
    "doc_result = embeddings.embed_documents(\n",
    "    [text, text, text, text]\n",
    ")"
   ]
  },
  {
   "cell_type": "code",
   "execution_count": 9,
   "metadata": {},
   "outputs": [
    {
     "data": {
      "text/plain": [
       "4"
      ]
     },
     "execution_count": 9,
     "metadata": {},
     "output_type": "execute_result"
    }
   ],
   "source": [
    "len(doc_result)"
   ]
  },
  {
   "cell_type": "code",
   "execution_count": 11,
   "metadata": {},
   "outputs": [
    {
     "data": {
      "text/plain": [
       "[0.001385761657729745,\n",
       " 0.03298284858465195,\n",
       " 0.03938661888241768,\n",
       " -0.02090979553759098,\n",
       " 0.01594056375324726]"
      ]
     },
     "execution_count": 11,
     "metadata": {},
     "output_type": "execute_result"
    }
   ],
   "source": [
    "doc_result[0][:5]"
   ]
  },
  {
   "cell_type": "markdown",
   "metadata": {},
   "source": [
    "### 차원지정\n",
    "\n",
    "* text-embedding-3-small모델같은경우 1536차원의 임베딩을 반환"
   ]
  },
  {
   "cell_type": "code",
   "execution_count": 12,
   "metadata": {},
   "outputs": [
    {
     "data": {
      "text/plain": [
       "1536"
      ]
     },
     "execution_count": 12,
     "metadata": {},
     "output_type": "execute_result"
    }
   ],
   "source": [
    "len(doc_result[0])"
   ]
  },
  {
   "cell_type": "code",
   "execution_count": null,
   "metadata": {},
   "outputs": [],
   "source": [
    "# 차원이 1024인 text-embedding-3-smalll모델 생성\n",
    "embeddings_1024 = OpenAIEmbeddings(model=\"text-embedding-3-small\", dimensions= 1024)"
   ]
  },
  {
   "cell_type": "code",
   "execution_count": 15,
   "metadata": {},
   "outputs": [
    {
     "data": {
      "text/plain": [
       "1024"
      ]
     },
     "execution_count": 15,
     "metadata": {},
     "output_type": "execute_result"
    }
   ],
   "source": [
    "doc_result_1024 = embeddings_1024.embed_documents([text,text,text,text])\n",
    "len(doc_result_1024[0])"
   ]
  },
  {
   "cell_type": "markdown",
   "metadata": {},
   "source": [
    "### 유사도 계산"
   ]
  },
  {
   "cell_type": "code",
   "execution_count": null,
   "metadata": {},
   "outputs": [],
   "source": [
    "sentence1 = \"안녕하세요 반갑습니다\"\n",
    "sentence2 = \"안녕\"\n",
    "sentence3 = \"안녕하세요 반가워요\"\n",
    "sentence4 = \"hi, nice to meet u\"\n",
    "sentence5 = \"i like to eat pizza\""
   ]
  },
  {
   "cell_type": "code",
   "execution_count": 22,
   "metadata": {},
   "outputs": [
    {
     "name": "stdout",
     "output_type": "stream",
     "text": [
      "Note: you may need to restart the kernel to use updated packages.\n"
     ]
    }
   ],
   "source": [
    "pip install -q scikit-learn"
   ]
  },
  {
   "cell_type": "code",
   "execution_count": null,
   "metadata": {},
   "outputs": [],
   "source": [
    "# from sklearn.metrics.pairwise import cosine_similarity\n",
    "# import numpy as np\n",
    "\n",
    "# # 예시 문장들\n",
    "# sentence1 = \"이것은 첫 번째 문장입니다.\"\n",
    "# sentence2 = \"이것은 두 번째 문장입니다.\"\n",
    "# sentence3 = \"이 문장은 세 번째입니다.\"\n",
    "# sentence4 = \"여기는 네 번째 문장이 있습니다.\"\n",
    "# sentence5 = \"마지막 문장입니다.\"\n",
    "\n",
    "# # 문장 리스트\n",
    "# sentences = [sentence1, sentence2, sentence3, sentence4, sentence5]\n",
    "\n",
    "# # 문장 임베딩 (embeddings_1024가 정의되어 있다고 가정)\n",
    "# embedded_sentences = embeddings_1024.embed_documents(sentences)\n",
    "\n",
    "# # 코사인 유사도 계산\n",
    "# similarity_matrix = cosine_similarity(embedded_sentences)\n",
    "\n",
    "# # 유사도 행렬 출력\n",
    "# print(similarity_matrix)"
   ]
  },
  {
   "cell_type": "markdown",
   "metadata": {},
   "source": [
    "코사인유사도<br>\n",
    "-1 ~1 사이의 값을 반환<br>\n",
    "\n",
    "\n",
    "1에 가까울수록 더 유사<br>\n",
    "0은 관계없음<br>\n",
    "-1은 반대됨<br>"
   ]
  },
  {
   "cell_type": "code",
   "execution_count": 24,
   "metadata": {},
   "outputs": [],
   "source": [
    "from sklearn.metrics.pairwise import cosine_similarity\n",
    "\n",
    "sentences = [sentence1, sentence2, sentence3, sentence4, sentence5]\n",
    "embedded_sentence = embeddings_1024.embed_documents(sentences)\n"
   ]
  },
  {
   "cell_type": "code",
   "execution_count": 25,
   "metadata": {},
   "outputs": [],
   "source": [
    "def similarity(a,b):\n",
    "    return cosine_similarity([a],[b])[0][0]"
   ]
  },
  {
   "cell_type": "code",
   "execution_count": 28,
   "metadata": {},
   "outputs": [
    {
     "name": "stdout",
     "output_type": "stream",
     "text": [
      "[유사도 0.6356] 안녕하세요 반갑습니다 \t <=====> \t 안녕\n",
      "[유사도 0.7309] 안녕하세요 반갑습니다 \t <=====> \t 안녕하세요 반가워요\n",
      "[유사도 0.3497] 안녕하세요 반갑습니다 \t <=====> \t hi, nice to meet u\n",
      "[유사도 0.0747] 안녕하세요 반갑습니다 \t <=====> \t i like to eat pizza\n",
      "[유사도 0.6485] 안녕 \t <=====> \t 안녕하세요 반가워요\n",
      "[유사도 0.4593] 안녕 \t <=====> \t hi, nice to meet u\n",
      "[유사도 0.1594] 안녕 \t <=====> \t i like to eat pizza\n",
      "[유사도 0.3656] 안녕하세요 반가워요 \t <=====> \t hi, nice to meet u\n",
      "[유사도 0.0943] 안녕하세요 반가워요 \t <=====> \t i like to eat pizza\n",
      "[유사도 0.2398] hi, nice to meet u \t <=====> \t i like to eat pizza\n"
     ]
    }
   ],
   "source": [
    "for i, sentence in enumerate(embedded_sentence):\n",
    "    for j, other_sentence in enumerate(embedded_sentence):\n",
    "        if i < j:\n",
    "            print(\n",
    "                f\"[유사도 {similarity(sentence, other_sentence):.4f}] {sentences[i]} \\t <=====> \\t {sentences[j]}\"\n",
    "            )"
   ]
  },
  {
   "cell_type": "code",
   "execution_count": null,
   "metadata": {},
   "outputs": [],
   "source": []
  }
 ],
 "metadata": {
  "kernelspec": {
   "display_name": "langchain_env",
   "language": "python",
   "name": "python3"
  },
  "language_info": {
   "codemirror_mode": {
    "name": "ipython",
    "version": 3
   },
   "file_extension": ".py",
   "mimetype": "text/x-python",
   "name": "python",
   "nbconvert_exporter": "python",
   "pygments_lexer": "ipython3",
   "version": "3.11.10"
  }
 },
 "nbformat": 4,
 "nbformat_minor": 2
}
